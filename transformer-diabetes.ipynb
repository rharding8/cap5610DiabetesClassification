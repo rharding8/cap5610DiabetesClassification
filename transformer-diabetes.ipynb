{
 "cells": [
  {
   "cell_type": "markdown",
   "metadata": {},
   "source": [
    "Transformers. First version, and results for presentation\n",
    "\n"
   ]
  },
  {
   "cell_type": "code",
   "execution_count": null,
   "metadata": {},
   "outputs": [
    {
     "name": "stderr",
     "output_type": "stream",
     "text": [
      "c:\\Users\\rockr\\anaconda3\\envs\\yologpu1\\Lib\\site-packages\\tqdm\\auto.py:21: TqdmWarning: IProgress not found. Please update jupyter and ipywidgets. See https://ipywidgets.readthedocs.io/en/stable/user_install.html\n",
      "  from .autonotebook import tqdm as notebook_tqdm\n"
     ]
    },
    {
     "name": "stdout",
     "output_type": "stream",
     "text": [
      "Column Names: Index(['Diabetes_012', 'HighBP', 'HighChol', 'CholCheck', 'BMI', 'Smoker',\n",
      "       'Stroke', 'HeartDiseaseorAttack', 'PhysActivity', 'Fruits', 'Veggies',\n",
      "       'HvyAlcoholConsump', 'AnyHealthcare', 'NoDocbcCost', 'GenHlth',\n",
      "       'MentHlth', 'PhysHlth', 'DiffWalk', 'Sex', 'Age', 'Education',\n",
      "       'Income'],\n",
      "      dtype='object')\n",
      "Target Values Distribution: Diabetes_012\n",
      "0.0    213703\n",
      "2.0     35346\n",
      "1.0      4631\n",
      "Name: count, dtype: int64\n"
     ]
    }
   ],
   "source": [
    "import pandas as pd\n",
    "from transformers import DistilBertTokenizerFast\n",
    "import torch\n",
    "from torch.utils.data import Dataset\n",
    "\n",
    "data_path = './data/diabetes-dataset/diabetes_012_health_indicators_BRFSS2015.csv'\n",
    "df = pd.read_csv(data_path)\n",
    "\n",
    "print(\"Column Names:\", df.columns)\n",
    "\n",
    "# Set the features and target\n",
    "X = df.drop(columns=['Diabetes_012'])\n",
    "y = df[['Diabetes_012']]\n",
    "\n",
    "\n",
    "print(\"Target Values Distribution:\", y['Diabetes_012'].value_counts())\n"
   ]
  },
  {
   "cell_type": "code",
   "execution_count": 2,
   "metadata": {},
   "outputs": [
    {
     "name": "stdout",
     "output_type": "stream",
     "text": [
      "Index(['HighBP', 'HighChol', 'CholCheck', 'BMI', 'Smoker', 'Stroke',\n",
      "       'HeartDiseaseorAttack', 'PhysActivity', 'Fruits', 'Veggies',\n",
      "       'HvyAlcoholConsump', 'AnyHealthcare', 'NoDocbcCost', 'GenHlth',\n",
      "       'MentHlth', 'PhysHlth', 'DiffWalk', 'Sex', 'Age', 'Education',\n",
      "       'Income'],\n",
      "      dtype='object')\n",
      "Index(['Diabetes_012'], dtype='object')\n"
     ]
    }
   ],
   "source": [
    "print(X.columns)\n",
    "print(y.columns)\n"
   ]
  },
  {
   "cell_type": "markdown",
   "metadata": {},
   "source": [
    "preprocess data"
   ]
  },
  {
   "cell_type": "code",
   "execution_count": 3,
   "metadata": {},
   "outputs": [
    {
     "name": "stdout",
     "output_type": "stream",
     "text": [
      "{'input_ids': tensor([ 101, 1015, 1012, 1014, 1015, 1012, 1014, 1015, 1012, 1014, 2871, 1012,\n",
      "        1014, 1015, 1012, 1014, 1014, 1012, 1014, 1014, 1012, 1014, 1014, 1012,\n",
      "        1014, 1014, 1012, 1014, 1015, 1012, 1014, 1014, 1012, 1014, 1015, 1012,\n",
      "        1014, 1014, 1012, 1014, 1019, 1012, 1014, 2324, 1012, 1014, 2321, 1012,\n",
      "        1014, 1015, 1012, 1014, 1014, 1012, 1014, 1023, 1012, 1014, 1018, 1012,\n",
      "        1014, 1017, 1012, 1014,  102,    0,    0,    0,    0,    0,    0,    0,\n",
      "           0,    0,    0,    0,    0,    0,    0,    0,    0,    0,    0,    0,\n",
      "           0,    0,    0,    0,    0,    0,    0,    0,    0,    0,    0,    0,\n",
      "           0,    0,    0,    0,    0,    0,    0,    0,    0,    0,    0,    0,\n",
      "           0,    0,    0,    0,    0,    0,    0,    0,    0,    0,    0,    0,\n",
      "           0,    0,    0,    0,    0,    0,    0,    0]), 'attention_mask': tensor([1, 1, 1, 1, 1, 1, 1, 1, 1, 1, 1, 1, 1, 1, 1, 1, 1, 1, 1, 1, 1, 1, 1, 1,\n",
      "        1, 1, 1, 1, 1, 1, 1, 1, 1, 1, 1, 1, 1, 1, 1, 1, 1, 1, 1, 1, 1, 1, 1, 1,\n",
      "        1, 1, 1, 1, 1, 1, 1, 1, 1, 1, 1, 1, 1, 1, 1, 1, 1, 0, 0, 0, 0, 0, 0, 0,\n",
      "        0, 0, 0, 0, 0, 0, 0, 0, 0, 0, 0, 0, 0, 0, 0, 0, 0, 0, 0, 0, 0, 0, 0, 0,\n",
      "        0, 0, 0, 0, 0, 0, 0, 0, 0, 0, 0, 0, 0, 0, 0, 0, 0, 0, 0, 0, 0, 0, 0, 0,\n",
      "        0, 0, 0, 0, 0, 0, 0, 0]), 'labels': tensor(0)}\n"
     ]
    }
   ],
   "source": [
    "tokenizer = DistilBertTokenizerFast.from_pretrained('distilbert-base-uncased')\n",
    "\n",
    "class DiabetesDataset(Dataset):\n",
    "    def __init__(self, features_df, target_df, tokenizer, target_col):\n",
    "        self.features_df = features_df\n",
    "        self.labels = torch.tensor(target_df[target_col].values)\n",
    "        self.tokenizer = tokenizer\n",
    "\n",
    "    def __len__(self):\n",
    "        return len(self.features_df)\n",
    "\n",
    "    def __getitem__(self, idx):\n",
    "        features = self.features_df.iloc[idx]\n",
    "        text = \" \".join([str(val) for val in features])\n",
    "        encoding = self.tokenizer(text, padding='max_length', truncation=True, max_length=128)\n",
    "        input_ids = encoding['input_ids']\n",
    "        attention_mask = encoding['attention_mask']\n",
    "        label = self.labels[idx].item()\n",
    "        return {\n",
    "            'input_ids': torch.tensor(input_ids, dtype=torch.long),\n",
    "            'attention_mask': torch.tensor(attention_mask, dtype=torch.long),\n",
    "            'labels': torch.tensor(label, dtype=torch.long)\n",
    "        }\n",
    "\n",
    "# Initialize the dataset\n",
    "target_col = 'Diabetes_012'\n",
    "diabetes_dataset = DiabetesDataset(X, y, tokenizer, target_col)\n",
    "\n",
    "# Fetch a sample to verify\n",
    "print(diabetes_dataset[0])\n"
   ]
  },
  {
   "cell_type": "markdown",
   "metadata": {},
   "source": [
    "train model"
   ]
  },
  {
   "cell_type": "code",
   "execution_count": 4,
   "metadata": {},
   "outputs": [
    {
     "name": "stderr",
     "output_type": "stream",
     "text": [
      "Some weights of DistilBertForSequenceClassification were not initialized from the model checkpoint at distilbert-base-uncased and are newly initialized: ['classifier.bias', 'classifier.weight', 'pre_classifier.bias', 'pre_classifier.weight']\n",
      "You should probably TRAIN this model on a down-stream task to be able to use it for predictions and inference.\n",
      "c:\\Users\\rockr\\anaconda3\\envs\\yologpu1\\Lib\\site-packages\\transformers\\training_args.py:1559: FutureWarning: `evaluation_strategy` is deprecated and will be removed in version 4.46 of 🤗 Transformers. Use `eval_strategy` instead\n",
      "  warnings.warn(\n"
     ]
    }
   ],
   "source": [
    "from transformers import DistilBertForSequenceClassification, Trainer, TrainingArguments\n",
    "\n",
    "# Initialize the model and move to GPU if available\n",
    "device = torch.device(\"cuda\" if torch.cuda.is_available() else \"cpu\")\n",
    "model = DistilBertForSequenceClassification.from_pretrained('distilbert-base-uncased', num_labels=3).to(device)\n",
    "\n",
    "# Set up training arguments with checkpoint saving\n",
    "training_args = TrainingArguments(\n",
    "    output_dir='./results',\n",
    "    evaluation_strategy='epoch',\n",
    "    learning_rate=2e-5,\n",
    "    per_device_train_batch_size=16,\n",
    "    per_device_eval_batch_size=16,\n",
    "    num_train_epochs=3,\n",
    "    weight_decay=0.01,\n",
    "    save_strategy=\"epoch\",  # Save checkpoint after each epoch\n",
    "    save_total_limit=2  # Only keep the last 2 checkpoints\n",
    ")\n",
    "\n",
    "# Split the dataset\n",
    "train_size = int(0.9 * len(X))\n",
    "test_size = len(X) - train_size\n",
    "train_dataset, test_dataset = torch.utils.data.random_split(diabetes_dataset, [train_size, test_size])\n",
    "\n",
    "# Initialize Trainer\n",
    "trainer = Trainer(\n",
    "    model=model,\n",
    "    args=training_args,\n",
    "    train_dataset=train_dataset,\n",
    "    eval_dataset=test_dataset,\n",
    ")\n",
    "\n"
   ]
  },
  {
   "cell_type": "markdown",
   "metadata": {},
   "source": [
    "checking all good before training"
   ]
  },
  {
   "cell_type": "code",
   "execution_count": 5,
   "metadata": {},
   "outputs": [
    {
     "name": "stdout",
     "output_type": "stream",
     "text": [
      "Number of training samples: 228312\n",
      "Number of test samples: 25368\n",
      "Using device: cuda\n"
     ]
    }
   ],
   "source": [
    "# Verify Data Loaders\n",
    "print(f\"Number of training samples: {len(train_dataset)}\")\n",
    "print(f\"Number of test samples: {len(test_dataset)}\")\n",
    "print(f\"Using device: {device}\")\n",
    "\n"
   ]
  },
  {
   "cell_type": "code",
   "execution_count": null,
   "metadata": {},
   "outputs": [
    {
     "name": "stderr",
     "output_type": "stream",
     "text": [
      "  0%|          | 0/42810 [00:00<?, ?it/s]c:\\Users\\rockr\\anaconda3\\envs\\yologpu1\\Lib\\site-packages\\transformers\\models\\distilbert\\modeling_distilbert.py:403: UserWarning: 1Torch was not compiled with flash attention. (Triggered internally at C:\\cb\\pytorch_1000000000000\\work\\aten\\src\\ATen\\native\\transformers\\cuda\\sdp_utils.cpp:455.)\n",
      "  attn_output = torch.nn.functional.scaled_dot_product_attention(\n",
      "  1%|          | 501/42810 [01:32<2:12:55,  5.31it/s]"
     ]
    },
    {
     "name": "stdout",
     "output_type": "stream",
     "text": [
      "{'loss': 0.4454, 'grad_norm': 2.6310677528381348, 'learning_rate': 1.976640971735576e-05, 'epoch': 0.04}\n"
     ]
    },
    {
     "name": "stderr",
     "output_type": "stream",
     "text": [
      "  2%|▏         | 1001/42810 [03:06<2:12:49,  5.25it/s]"
     ]
    },
    {
     "name": "stdout",
     "output_type": "stream",
     "text": [
      "{'loss': 0.437, 'grad_norm': 1.694321632385254, 'learning_rate': 1.9532819434711517e-05, 'epoch': 0.07}\n"
     ]
    },
    {
     "name": "stderr",
     "output_type": "stream",
     "text": [
      "  4%|▎         | 1501/42810 [04:41<2:11:41,  5.23it/s]"
     ]
    },
    {
     "name": "stdout",
     "output_type": "stream",
     "text": [
      "{'loss': 0.4217, 'grad_norm': 1.1643290519714355, 'learning_rate': 1.9299229152067275e-05, 'epoch': 0.11}\n"
     ]
    },
    {
     "name": "stderr",
     "output_type": "stream",
     "text": [
      "  5%|▍         | 2001/42810 [06:16<2:12:47,  5.12it/s]"
     ]
    },
    {
     "name": "stdout",
     "output_type": "stream",
     "text": [
      "{'loss': 0.4295, 'grad_norm': 2.5311567783355713, 'learning_rate': 1.9065638869423033e-05, 'epoch': 0.14}\n"
     ]
    },
    {
     "name": "stderr",
     "output_type": "stream",
     "text": [
      "  6%|▌         | 2501/42810 [07:52<2:10:10,  5.16it/s]"
     ]
    },
    {
     "name": "stdout",
     "output_type": "stream",
     "text": [
      "{'loss': 0.4128, 'grad_norm': 1.6446328163146973, 'learning_rate': 1.883204858677879e-05, 'epoch': 0.18}\n"
     ]
    },
    {
     "name": "stderr",
     "output_type": "stream",
     "text": [
      "  7%|▋         | 3001/42810 [09:28<2:08:01,  5.18it/s]"
     ]
    },
    {
     "name": "stdout",
     "output_type": "stream",
     "text": [
      "{'loss': 0.4105, 'grad_norm': 2.8956339359283447, 'learning_rate': 1.859845830413455e-05, 'epoch': 0.21}\n"
     ]
    },
    {
     "name": "stderr",
     "output_type": "stream",
     "text": [
      "  8%|▊         | 3501/42810 [11:04<2:06:27,  5.18it/s]"
     ]
    },
    {
     "name": "stdout",
     "output_type": "stream",
     "text": [
      "{'loss': 0.4156, 'grad_norm': 2.0552291870117188, 'learning_rate': 1.8364868021490307e-05, 'epoch': 0.25}\n"
     ]
    },
    {
     "name": "stderr",
     "output_type": "stream",
     "text": [
      "  9%|▉         | 4001/42810 [12:40<2:04:47,  5.18it/s]"
     ]
    },
    {
     "name": "stdout",
     "output_type": "stream",
     "text": [
      "{'loss': 0.418, 'grad_norm': 1.0164839029312134, 'learning_rate': 1.8131277738846065e-05, 'epoch': 0.28}\n"
     ]
    },
    {
     "name": "stderr",
     "output_type": "stream",
     "text": [
      " 11%|█         | 4501/42810 [14:17<2:03:47,  5.16it/s]"
     ]
    },
    {
     "name": "stdout",
     "output_type": "stream",
     "text": [
      "{'loss': 0.4123, 'grad_norm': 1.3424997329711914, 'learning_rate': 1.7897687456201826e-05, 'epoch': 0.32}\n"
     ]
    },
    {
     "name": "stderr",
     "output_type": "stream",
     "text": [
      " 12%|█▏        | 5001/42810 [15:53<2:03:01,  5.12it/s]"
     ]
    },
    {
     "name": "stdout",
     "output_type": "stream",
     "text": [
      "{'loss': 0.4016, 'grad_norm': 2.153399705886841, 'learning_rate': 1.766409717355758e-05, 'epoch': 0.35}\n"
     ]
    },
    {
     "name": "stderr",
     "output_type": "stream",
     "text": [
      " 13%|█▎        | 5501/42810 [17:29<2:00:43,  5.15it/s]"
     ]
    },
    {
     "name": "stdout",
     "output_type": "stream",
     "text": [
      "{'loss': 0.3955, 'grad_norm': 2.4335527420043945, 'learning_rate': 1.7430506890913338e-05, 'epoch': 0.39}\n"
     ]
    },
    {
     "name": "stderr",
     "output_type": "stream",
     "text": [
      " 14%|█▍        | 6001/42810 [19:05<1:59:20,  5.14it/s]"
     ]
    },
    {
     "name": "stdout",
     "output_type": "stream",
     "text": [
      "{'loss': 0.4095, 'grad_norm': 1.6153334379196167, 'learning_rate': 1.7196916608269096e-05, 'epoch': 0.42}\n"
     ]
    },
    {
     "name": "stderr",
     "output_type": "stream",
     "text": [
      " 15%|█▌        | 6501/42810 [20:42<1:57:03,  5.17it/s]"
     ]
    },
    {
     "name": "stdout",
     "output_type": "stream",
     "text": [
      "{'loss': 0.4025, 'grad_norm': 1.595699667930603, 'learning_rate': 1.6963326325624857e-05, 'epoch': 0.46}\n"
     ]
    },
    {
     "name": "stderr",
     "output_type": "stream",
     "text": [
      " 16%|█▋        | 7001/42810 [22:18<1:55:47,  5.15it/s]"
     ]
    },
    {
     "name": "stdout",
     "output_type": "stream",
     "text": [
      "{'loss': 0.3966, 'grad_norm': 2.149059772491455, 'learning_rate': 1.6729736042980612e-05, 'epoch': 0.49}\n"
     ]
    },
    {
     "name": "stderr",
     "output_type": "stream",
     "text": [
      " 18%|█▊        | 7501/42810 [23:54<1:53:57,  5.16it/s]"
     ]
    },
    {
     "name": "stdout",
     "output_type": "stream",
     "text": [
      "{'loss': 0.3986, 'grad_norm': 2.6274826526641846, 'learning_rate': 1.649614576033637e-05, 'epoch': 0.53}\n"
     ]
    },
    {
     "name": "stderr",
     "output_type": "stream",
     "text": [
      " 19%|█▊        | 8001/42810 [25:31<1:51:58,  5.18it/s]"
     ]
    },
    {
     "name": "stdout",
     "output_type": "stream",
     "text": [
      "{'loss': 0.3958, 'grad_norm': 2.129368782043457, 'learning_rate': 1.626255547769213e-05, 'epoch': 0.56}\n"
     ]
    },
    {
     "name": "stderr",
     "output_type": "stream",
     "text": [
      " 20%|█▉        | 8501/42810 [27:07<1:50:15,  5.19it/s]"
     ]
    },
    {
     "name": "stdout",
     "output_type": "stream",
     "text": [
      "{'loss': 0.4061, 'grad_norm': 3.740892171859741, 'learning_rate': 1.602896519504789e-05, 'epoch': 0.6}\n"
     ]
    },
    {
     "name": "stderr",
     "output_type": "stream",
     "text": [
      " 21%|██        | 9001/42810 [28:42<1:48:51,  5.18it/s]"
     ]
    },
    {
     "name": "stdout",
     "output_type": "stream",
     "text": [
      "{'loss': 0.4019, 'grad_norm': 0.9866651296615601, 'learning_rate': 1.5795374912403643e-05, 'epoch': 0.63}\n"
     ]
    },
    {
     "name": "stderr",
     "output_type": "stream",
     "text": [
      " 22%|██▏       | 9501/42810 [30:18<1:46:44,  5.20it/s]"
     ]
    },
    {
     "name": "stdout",
     "output_type": "stream",
     "text": [
      "{'loss': 0.3972, 'grad_norm': 1.2044843435287476, 'learning_rate': 1.55617846297594e-05, 'epoch': 0.67}\n"
     ]
    },
    {
     "name": "stderr",
     "output_type": "stream",
     "text": [
      " 23%|██▎       | 10001/42810 [31:53<1:45:10,  5.20it/s]"
     ]
    },
    {
     "name": "stdout",
     "output_type": "stream",
     "text": [
      "{'loss': 0.414, 'grad_norm': 1.470272421836853, 'learning_rate': 1.5328194347115163e-05, 'epoch': 0.7}\n"
     ]
    },
    {
     "name": "stderr",
     "output_type": "stream",
     "text": [
      " 25%|██▍       | 10501/42810 [33:29<1:43:25,  5.21it/s]"
     ]
    },
    {
     "name": "stdout",
     "output_type": "stream",
     "text": [
      "{'loss': 0.4025, 'grad_norm': 1.2921760082244873, 'learning_rate': 1.5094604064470919e-05, 'epoch': 0.74}\n"
     ]
    },
    {
     "name": "stderr",
     "output_type": "stream",
     "text": [
      " 26%|██▌       | 11001/42810 [35:04<1:41:45,  5.21it/s]"
     ]
    },
    {
     "name": "stdout",
     "output_type": "stream",
     "text": [
      "{'loss': 0.4071, 'grad_norm': 4.21263313293457, 'learning_rate': 1.4861013781826677e-05, 'epoch': 0.77}\n"
     ]
    },
    {
     "name": "stderr",
     "output_type": "stream",
     "text": [
      " 27%|██▋       | 11501/42810 [36:39<1:40:21,  5.20it/s]"
     ]
    },
    {
     "name": "stdout",
     "output_type": "stream",
     "text": [
      "{'loss': 0.3879, 'grad_norm': 2.335622787475586, 'learning_rate': 1.4627423499182436e-05, 'epoch': 0.81}\n"
     ]
    },
    {
     "name": "stderr",
     "output_type": "stream",
     "text": [
      " 28%|██▊       | 12001/42810 [38:15<1:38:38,  5.21it/s]"
     ]
    },
    {
     "name": "stdout",
     "output_type": "stream",
     "text": [
      "{'loss': 0.4081, 'grad_norm': 1.3291785717010498, 'learning_rate': 1.4393833216538194e-05, 'epoch': 0.84}\n"
     ]
    },
    {
     "name": "stderr",
     "output_type": "stream",
     "text": [
      " 29%|██▉       | 12501/42810 [39:50<1:36:57,  5.21it/s]"
     ]
    },
    {
     "name": "stdout",
     "output_type": "stream",
     "text": [
      "{'loss': 0.4067, 'grad_norm': 1.7290979623794556, 'learning_rate': 1.416024293389395e-05, 'epoch': 0.88}\n"
     ]
    },
    {
     "name": "stderr",
     "output_type": "stream",
     "text": [
      " 30%|███       | 13001/42810 [41:25<1:35:40,  5.19it/s]"
     ]
    },
    {
     "name": "stdout",
     "output_type": "stream",
     "text": [
      "{'loss': 0.4062, 'grad_norm': 1.0722492933273315, 'learning_rate': 1.392665265124971e-05, 'epoch': 0.91}\n"
     ]
    },
    {
     "name": "stderr",
     "output_type": "stream",
     "text": [
      " 32%|███▏      | 13501/42810 [43:01<1:33:47,  5.21it/s]"
     ]
    },
    {
     "name": "stdout",
     "output_type": "stream",
     "text": [
      "{'loss': 0.4112, 'grad_norm': 1.2710208892822266, 'learning_rate': 1.3693062368605468e-05, 'epoch': 0.95}\n"
     ]
    },
    {
     "name": "stderr",
     "output_type": "stream",
     "text": [
      " 33%|███▎      | 14001/42810 [44:36<1:32:04,  5.22it/s]"
     ]
    },
    {
     "name": "stdout",
     "output_type": "stream",
     "text": [
      "{'loss': 0.4134, 'grad_norm': 1.4627366065979004, 'learning_rate': 1.3459472085961226e-05, 'epoch': 0.98}\n"
     ]
    },
    {
     "name": "stderr",
     "output_type": "stream",
     "text": [
      "                                                       \n",
      " 33%|███▎      | 14270/42810 [47:00<1:20:29,  5.91it/s]"
     ]
    },
    {
     "name": "stdout",
     "output_type": "stream",
     "text": [
      "{'eval_loss': 0.4240972399711609, 'eval_runtime': 93.4244, 'eval_samples_per_second': 271.535, 'eval_steps_per_second': 16.976, 'epoch': 1.0}\n"
     ]
    },
    {
     "name": "stderr",
     "output_type": "stream",
     "text": [
      " 34%|███▍      | 14501/42810 [47:45<1:31:07,  5.18it/s]  "
     ]
    },
    {
     "name": "stdout",
     "output_type": "stream",
     "text": [
      "{'loss': 0.4011, 'grad_norm': 1.518689513206482, 'learning_rate': 1.3225881803316982e-05, 'epoch': 1.02}\n"
     ]
    },
    {
     "name": "stderr",
     "output_type": "stream",
     "text": [
      " 35%|███▌      | 15001/42810 [49:21<1:29:03,  5.20it/s]"
     ]
    },
    {
     "name": "stdout",
     "output_type": "stream",
     "text": [
      "{'loss': 0.4176, 'grad_norm': 2.7791242599487305, 'learning_rate': 1.2992291520672741e-05, 'epoch': 1.05}\n"
     ]
    },
    {
     "name": "stderr",
     "output_type": "stream",
     "text": [
      " 36%|███▌      | 15501/42810 [50:56<1:27:29,  5.20it/s]"
     ]
    },
    {
     "name": "stdout",
     "output_type": "stream",
     "text": [
      "{'loss': 0.4035, 'grad_norm': 1.2722725868225098, 'learning_rate': 1.27587012380285e-05, 'epoch': 1.09}\n"
     ]
    },
    {
     "name": "stderr",
     "output_type": "stream",
     "text": [
      " 37%|███▋      | 16001/42810 [52:32<1:26:06,  5.19it/s]"
     ]
    },
    {
     "name": "stdout",
     "output_type": "stream",
     "text": [
      "{'loss': 0.3888, 'grad_norm': 2.29439640045166, 'learning_rate': 1.2525110955384257e-05, 'epoch': 1.12}\n"
     ]
    },
    {
     "name": "stderr",
     "output_type": "stream",
     "text": [
      " 39%|███▊      | 16501/42810 [54:08<1:23:56,  5.22it/s]"
     ]
    },
    {
     "name": "stdout",
     "output_type": "stream",
     "text": [
      "{'loss': 0.392, 'grad_norm': 2.073272228240967, 'learning_rate': 1.2291520672740017e-05, 'epoch': 1.16}\n"
     ]
    },
    {
     "name": "stderr",
     "output_type": "stream",
     "text": [
      " 40%|███▉      | 17001/42810 [55:43<1:22:53,  5.19it/s]"
     ]
    },
    {
     "name": "stdout",
     "output_type": "stream",
     "text": [
      "{'loss': 0.4046, 'grad_norm': 1.9307500123977661, 'learning_rate': 1.2057930390095773e-05, 'epoch': 1.19}\n"
     ]
    },
    {
     "name": "stderr",
     "output_type": "stream",
     "text": [
      " 41%|████      | 17501/42810 [57:19<1:21:05,  5.20it/s]"
     ]
    },
    {
     "name": "stdout",
     "output_type": "stream",
     "text": [
      "{'loss': 0.4087, 'grad_norm': 1.0317256450653076, 'learning_rate': 1.182434010745153e-05, 'epoch': 1.23}\n"
     ]
    },
    {
     "name": "stderr",
     "output_type": "stream",
     "text": [
      " 42%|████▏     | 18001/42810 [58:54<1:19:45,  5.18it/s]"
     ]
    },
    {
     "name": "stdout",
     "output_type": "stream",
     "text": [
      "{'loss': 0.3879, 'grad_norm': 1.9928838014602661, 'learning_rate': 1.1590749824807289e-05, 'epoch': 1.26}\n"
     ]
    },
    {
     "name": "stderr",
     "output_type": "stream",
     "text": [
      " 43%|████▎     | 18501/42810 [1:00:30<1:17:58,  5.20it/s]"
     ]
    },
    {
     "name": "stdout",
     "output_type": "stream",
     "text": [
      "{'loss': 0.413, 'grad_norm': 2.0544803142547607, 'learning_rate': 1.1357159542163048e-05, 'epoch': 1.3}\n"
     ]
    },
    {
     "name": "stderr",
     "output_type": "stream",
     "text": [
      " 44%|████▍     | 19001/42810 [1:02:05<1:16:21,  5.20it/s]"
     ]
    },
    {
     "name": "stdout",
     "output_type": "stream",
     "text": [
      "{'loss': 0.3959, 'grad_norm': 1.2918128967285156, 'learning_rate': 1.1123569259518804e-05, 'epoch': 1.33}\n"
     ]
    },
    {
     "name": "stderr",
     "output_type": "stream",
     "text": [
      " 46%|████▌     | 19501/42810 [1:03:40<1:14:36,  5.21it/s]"
     ]
    },
    {
     "name": "stdout",
     "output_type": "stream",
     "text": [
      "{'loss': 0.3911, 'grad_norm': 1.6417604684829712, 'learning_rate': 1.0889978976874562e-05, 'epoch': 1.37}\n"
     ]
    },
    {
     "name": "stderr",
     "output_type": "stream",
     "text": [
      " 47%|████▋     | 20001/42810 [1:05:15<1:13:09,  5.20it/s]"
     ]
    },
    {
     "name": "stdout",
     "output_type": "stream",
     "text": [
      "{'loss': 0.4021, 'grad_norm': 1.2086788415908813, 'learning_rate': 1.0656388694230322e-05, 'epoch': 1.4}\n"
     ]
    },
    {
     "name": "stderr",
     "output_type": "stream",
     "text": [
      " 48%|████▊     | 20501/42810 [1:06:51<1:11:35,  5.19it/s]"
     ]
    },
    {
     "name": "stdout",
     "output_type": "stream",
     "text": [
      "{'loss': 0.3976, 'grad_norm': 0.9316544532775879, 'learning_rate': 1.042279841158608e-05, 'epoch': 1.44}\n"
     ]
    },
    {
     "name": "stderr",
     "output_type": "stream",
     "text": [
      " 49%|████▉     | 21001/42810 [1:08:26<1:10:06,  5.18it/s]"
     ]
    },
    {
     "name": "stdout",
     "output_type": "stream",
     "text": [
      "{'loss': 0.4036, 'grad_norm': 1.0202677249908447, 'learning_rate': 1.0189208128941836e-05, 'epoch': 1.47}\n"
     ]
    },
    {
     "name": "stderr",
     "output_type": "stream",
     "text": [
      " 50%|█████     | 21501/42810 [1:10:01<1:08:14,  5.20it/s]"
     ]
    },
    {
     "name": "stdout",
     "output_type": "stream",
     "text": [
      "{'loss': 0.4081, 'grad_norm': 1.2370036840438843, 'learning_rate': 9.955617846297595e-06, 'epoch': 1.51}\n"
     ]
    },
    {
     "name": "stderr",
     "output_type": "stream",
     "text": [
      " 51%|█████▏    | 22001/42810 [1:11:36<1:06:32,  5.21it/s]"
     ]
    },
    {
     "name": "stdout",
     "output_type": "stream",
     "text": [
      "{'loss': 0.3872, 'grad_norm': 1.38107168674469, 'learning_rate': 9.722027563653352e-06, 'epoch': 1.54}\n"
     ]
    },
    {
     "name": "stderr",
     "output_type": "stream",
     "text": [
      " 53%|█████▎    | 22501/42810 [1:13:12<1:05:05,  5.20it/s]"
     ]
    },
    {
     "name": "stdout",
     "output_type": "stream",
     "text": [
      "{'loss': 0.4053, 'grad_norm': 1.4009958505630493, 'learning_rate': 9.488437281009111e-06, 'epoch': 1.58}\n"
     ]
    },
    {
     "name": "stderr",
     "output_type": "stream",
     "text": [
      " 54%|█████▎    | 23001/42810 [1:14:47<1:03:22,  5.21it/s]"
     ]
    },
    {
     "name": "stdout",
     "output_type": "stream",
     "text": [
      "{'loss': 0.3938, 'grad_norm': 2.2878024578094482, 'learning_rate': 9.254846998364869e-06, 'epoch': 1.61}\n"
     ]
    },
    {
     "name": "stderr",
     "output_type": "stream",
     "text": [
      " 55%|█████▍    | 23501/42810 [1:16:22<1:01:47,  5.21it/s]"
     ]
    },
    {
     "name": "stdout",
     "output_type": "stream",
     "text": [
      "{'loss': 0.389, 'grad_norm': 0.9400269985198975, 'learning_rate': 9.021256715720627e-06, 'epoch': 1.65}\n"
     ]
    },
    {
     "name": "stderr",
     "output_type": "stream",
     "text": [
      " 56%|█████▌    | 24001/42810 [1:17:57<1:00:00,  5.22it/s]"
     ]
    },
    {
     "name": "stdout",
     "output_type": "stream",
     "text": [
      "{'loss': 0.3968, 'grad_norm': 0.7342543601989746, 'learning_rate': 8.787666433076385e-06, 'epoch': 1.68}\n"
     ]
    },
    {
     "name": "stderr",
     "output_type": "stream",
     "text": [
      " 57%|█████▋    | 24501/42810 [1:19:32<58:13,  5.24it/s]  "
     ]
    },
    {
     "name": "stdout",
     "output_type": "stream",
     "text": [
      "{'loss': 0.399, 'grad_norm': 2.284647226333618, 'learning_rate': 8.554076150432143e-06, 'epoch': 1.72}\n"
     ]
    },
    {
     "name": "stderr",
     "output_type": "stream",
     "text": [
      " 58%|█████▊    | 25001/42810 [1:21:07<56:42,  5.23it/s]"
     ]
    },
    {
     "name": "stdout",
     "output_type": "stream",
     "text": [
      "{'loss': 0.3928, 'grad_norm': 1.0725270509719849, 'learning_rate': 8.3204858677879e-06, 'epoch': 1.75}\n"
     ]
    },
    {
     "name": "stderr",
     "output_type": "stream",
     "text": [
      " 60%|█████▉    | 25501/42810 [1:22:42<54:59,  5.25it/s]"
     ]
    },
    {
     "name": "stdout",
     "output_type": "stream",
     "text": [
      "{'loss': 0.3979, 'grad_norm': 2.133112907409668, 'learning_rate': 8.086895585143658e-06, 'epoch': 1.79}\n"
     ]
    },
    {
     "name": "stderr",
     "output_type": "stream",
     "text": [
      " 61%|██████    | 26001/42810 [1:24:16<53:24,  5.24it/s]"
     ]
    },
    {
     "name": "stdout",
     "output_type": "stream",
     "text": [
      "{'loss': 0.3882, 'grad_norm': 0.8658791184425354, 'learning_rate': 7.853305302499416e-06, 'epoch': 1.82}\n"
     ]
    },
    {
     "name": "stderr",
     "output_type": "stream",
     "text": [
      " 62%|██████▏   | 26501/42810 [1:25:51<51:36,  5.27it/s]"
     ]
    },
    {
     "name": "stdout",
     "output_type": "stream",
     "text": [
      "{'loss': 0.4022, 'grad_norm': 1.4797167778015137, 'learning_rate': 7.619715019855175e-06, 'epoch': 1.86}\n"
     ]
    },
    {
     "name": "stderr",
     "output_type": "stream",
     "text": [
      " 63%|██████▎   | 27001/42810 [1:27:25<50:06,  5.26it/s]"
     ]
    },
    {
     "name": "stdout",
     "output_type": "stream",
     "text": [
      "{'loss': 0.4031, 'grad_norm': 0.8495696187019348, 'learning_rate': 7.386124737210932e-06, 'epoch': 1.89}\n"
     ]
    },
    {
     "name": "stderr",
     "output_type": "stream",
     "text": [
      " 64%|██████▍   | 27501/42810 [1:28:59<48:41,  5.24it/s]"
     ]
    },
    {
     "name": "stdout",
     "output_type": "stream",
     "text": [
      "{'loss': 0.4021, 'grad_norm': 0.9166727066040039, 'learning_rate': 7.152534454566691e-06, 'epoch': 1.93}\n"
     ]
    },
    {
     "name": "stderr",
     "output_type": "stream",
     "text": [
      " 65%|██████▌   | 28001/42810 [1:30:34<46:54,  5.26it/s]"
     ]
    },
    {
     "name": "stdout",
     "output_type": "stream",
     "text": [
      "{'loss': 0.3982, 'grad_norm': 1.1980892419815063, 'learning_rate': 6.918944171922448e-06, 'epoch': 1.96}\n"
     ]
    },
    {
     "name": "stderr",
     "output_type": "stream",
     "text": [
      " 67%|██████▋   | 28501/42810 [1:32:08<45:04,  5.29it/s]"
     ]
    },
    {
     "name": "stdout",
     "output_type": "stream",
     "text": [
      "{'loss': 0.3887, 'grad_norm': 1.7285958528518677, 'learning_rate': 6.685353889278207e-06, 'epoch': 2.0}\n"
     ]
    },
    {
     "name": "stderr",
     "output_type": "stream",
     "text": [
      "                                                       \n",
      " 67%|██████▋   | 28540/42810 [1:33:48<39:32,  6.01it/s]"
     ]
    },
    {
     "name": "stdout",
     "output_type": "stream",
     "text": [
      "{'eval_loss': 0.39936745166778564, 'eval_runtime': 92.4495, 'eval_samples_per_second': 274.398, 'eval_steps_per_second': 17.155, 'epoch': 2.0}\n"
     ]
    },
    {
     "name": "stderr",
     "output_type": "stream",
     "text": [
      " 68%|██████▊   | 29001/42810 [1:35:16<43:40,  5.27it/s]    "
     ]
    },
    {
     "name": "stdout",
     "output_type": "stream",
     "text": [
      "{'loss': 0.407, 'grad_norm': 1.3659056425094604, 'learning_rate': 6.451763606633965e-06, 'epoch': 2.03}\n"
     ]
    },
    {
     "name": "stderr",
     "output_type": "stream",
     "text": [
      " 69%|██████▉   | 29501/42810 [1:36:50<42:09,  5.26it/s]"
     ]
    },
    {
     "name": "stdout",
     "output_type": "stream",
     "text": [
      "{'loss': 0.3905, 'grad_norm': 1.352389931678772, 'learning_rate': 6.218173323989722e-06, 'epoch': 2.07}\n"
     ]
    },
    {
     "name": "stderr",
     "output_type": "stream",
     "text": [
      " 70%|███████   | 30001/42810 [1:38:25<40:34,  5.26it/s]"
     ]
    },
    {
     "name": "stdout",
     "output_type": "stream",
     "text": [
      "{'loss': 0.384, 'grad_norm': 2.4029715061187744, 'learning_rate': 5.984583041345481e-06, 'epoch': 2.1}\n"
     ]
    },
    {
     "name": "stderr",
     "output_type": "stream",
     "text": [
      " 71%|███████   | 30501/42810 [1:39:59<39:01,  5.26it/s]"
     ]
    },
    {
     "name": "stdout",
     "output_type": "stream",
     "text": [
      "{'loss': 0.4014, 'grad_norm': 1.4454704523086548, 'learning_rate': 5.750992758701238e-06, 'epoch': 2.14}\n"
     ]
    },
    {
     "name": "stderr",
     "output_type": "stream",
     "text": [
      " 72%|███████▏  | 31001/42810 [1:41:34<37:34,  5.24it/s]"
     ]
    },
    {
     "name": "stdout",
     "output_type": "stream",
     "text": [
      "{'loss': 0.3969, 'grad_norm': 1.885632872581482, 'learning_rate': 5.517402476056997e-06, 'epoch': 2.17}\n"
     ]
    },
    {
     "name": "stderr",
     "output_type": "stream",
     "text": [
      " 74%|███████▎  | 31501/42810 [1:43:08<35:57,  5.24it/s]"
     ]
    },
    {
     "name": "stdout",
     "output_type": "stream",
     "text": [
      "{'loss': 0.4024, 'grad_norm': 1.1113547086715698, 'learning_rate': 5.283812193412754e-06, 'epoch': 2.21}\n"
     ]
    },
    {
     "name": "stderr",
     "output_type": "stream",
     "text": [
      " 75%|███████▍  | 32001/42810 [1:44:43<34:27,  5.23it/s]"
     ]
    },
    {
     "name": "stdout",
     "output_type": "stream",
     "text": [
      "{'loss': 0.3899, 'grad_norm': 0.7623665928840637, 'learning_rate': 5.050221910768513e-06, 'epoch': 2.24}\n"
     ]
    },
    {
     "name": "stderr",
     "output_type": "stream",
     "text": [
      " 76%|███████▌  | 32501/42810 [1:46:18<32:48,  5.24it/s]"
     ]
    },
    {
     "name": "stdout",
     "output_type": "stream",
     "text": [
      "{'loss': 0.3745, 'grad_norm': 2.6553566455841064, 'learning_rate': 4.8166316281242705e-06, 'epoch': 2.28}\n"
     ]
    },
    {
     "name": "stderr",
     "output_type": "stream",
     "text": [
      " 77%|███████▋  | 33001/42810 [1:47:52<31:06,  5.25it/s]"
     ]
    },
    {
     "name": "stdout",
     "output_type": "stream",
     "text": [
      "{'loss': 0.4085, 'grad_norm': 1.7342640161514282, 'learning_rate': 4.583041345480028e-06, 'epoch': 2.31}\n"
     ]
    },
    {
     "name": "stderr",
     "output_type": "stream",
     "text": [
      " 78%|███████▊  | 33501/42810 [1:49:27<29:35,  5.24it/s]"
     ]
    },
    {
     "name": "stdout",
     "output_type": "stream",
     "text": [
      "{'loss': 0.4045, 'grad_norm': 1.2331938743591309, 'learning_rate': 4.349451062835787e-06, 'epoch': 2.35}\n"
     ]
    },
    {
     "name": "stderr",
     "output_type": "stream",
     "text": [
      " 79%|███████▉  | 34001/42810 [1:51:02<28:00,  5.24it/s]"
     ]
    },
    {
     "name": "stdout",
     "output_type": "stream",
     "text": [
      "{'loss': 0.3991, 'grad_norm': 1.9308760166168213, 'learning_rate': 4.115860780191545e-06, 'epoch': 2.38}\n"
     ]
    },
    {
     "name": "stderr",
     "output_type": "stream",
     "text": [
      " 81%|████████  | 34501/42810 [1:52:36<26:20,  5.26it/s]"
     ]
    },
    {
     "name": "stdout",
     "output_type": "stream",
     "text": [
      "{'loss': 0.396, 'grad_norm': 1.1452116966247559, 'learning_rate': 3.882270497547303e-06, 'epoch': 2.42}\n"
     ]
    },
    {
     "name": "stderr",
     "output_type": "stream",
     "text": [
      " 82%|████████▏ | 35001/42810 [1:54:11<24:55,  5.22it/s]"
     ]
    },
    {
     "name": "stdout",
     "output_type": "stream",
     "text": [
      "{'loss': 0.4032, 'grad_norm': 3.561846971511841, 'learning_rate': 3.6486802149030603e-06, 'epoch': 2.45}\n"
     ]
    },
    {
     "name": "stderr",
     "output_type": "stream",
     "text": [
      " 83%|████████▎ | 35501/42810 [1:55:45<23:15,  5.24it/s]"
     ]
    },
    {
     "name": "stdout",
     "output_type": "stream",
     "text": [
      "{'loss': 0.398, 'grad_norm': 1.73945152759552, 'learning_rate': 3.415089932258818e-06, 'epoch': 2.49}\n"
     ]
    },
    {
     "name": "stderr",
     "output_type": "stream",
     "text": [
      " 84%|████████▍ | 36001/42810 [1:57:20<21:35,  5.25it/s]"
     ]
    },
    {
     "name": "stdout",
     "output_type": "stream",
     "text": [
      "{'loss': 0.4053, 'grad_norm': 0.9798424243927002, 'learning_rate': 3.181499649614576e-06, 'epoch': 2.52}\n"
     ]
    },
    {
     "name": "stderr",
     "output_type": "stream",
     "text": [
      " 85%|████████▌ | 36501/42810 [1:58:54<20:05,  5.24it/s]"
     ]
    },
    {
     "name": "stdout",
     "output_type": "stream",
     "text": [
      "{'loss': 0.3923, 'grad_norm': 1.5541410446166992, 'learning_rate': 2.947909366970334e-06, 'epoch': 2.56}\n"
     ]
    },
    {
     "name": "stderr",
     "output_type": "stream",
     "text": [
      " 86%|████████▋ | 37001/42810 [2:00:29<18:31,  5.23it/s]"
     ]
    },
    {
     "name": "stdout",
     "output_type": "stream",
     "text": [
      "{'loss': 0.391, 'grad_norm': 1.8974030017852783, 'learning_rate': 2.7143190843260926e-06, 'epoch': 2.59}\n"
     ]
    },
    {
     "name": "stderr",
     "output_type": "stream",
     "text": [
      " 88%|████████▊ | 37501/42810 [2:02:04<16:54,  5.24it/s]"
     ]
    },
    {
     "name": "stdout",
     "output_type": "stream",
     "text": [
      "{'loss': 0.3887, 'grad_norm': 1.1931971311569214, 'learning_rate': 2.4807288016818505e-06, 'epoch': 2.63}\n"
     ]
    },
    {
     "name": "stderr",
     "output_type": "stream",
     "text": [
      " 89%|████████▉ | 38001/42810 [2:03:38<15:16,  5.25it/s]"
     ]
    },
    {
     "name": "stdout",
     "output_type": "stream",
     "text": [
      "{'loss': 0.3936, 'grad_norm': 2.0369482040405273, 'learning_rate': 2.2471385190376084e-06, 'epoch': 2.66}\n"
     ]
    },
    {
     "name": "stderr",
     "output_type": "stream",
     "text": [
      " 90%|████████▉ | 38501/42810 [2:05:13<13:41,  5.24it/s]"
     ]
    },
    {
     "name": "stdout",
     "output_type": "stream",
     "text": [
      "{'loss': 0.3993, 'grad_norm': 0.8551033139228821, 'learning_rate': 2.0135482363933663e-06, 'epoch': 2.7}\n"
     ]
    },
    {
     "name": "stderr",
     "output_type": "stream",
     "text": [
      " 91%|█████████ | 39001/42810 [2:06:48<12:08,  5.23it/s]"
     ]
    },
    {
     "name": "stdout",
     "output_type": "stream",
     "text": [
      "{'loss': 0.3857, 'grad_norm': 2.6460554599761963, 'learning_rate': 1.7799579537491241e-06, 'epoch': 2.73}\n"
     ]
    },
    {
     "name": "stderr",
     "output_type": "stream",
     "text": [
      " 92%|█████████▏| 39501/42810 [2:08:23<10:33,  5.22it/s]"
     ]
    },
    {
     "name": "stdout",
     "output_type": "stream",
     "text": [
      "{'loss': 0.4034, 'grad_norm': 0.8387027382850647, 'learning_rate': 1.5463676711048822e-06, 'epoch': 2.77}\n"
     ]
    },
    {
     "name": "stderr",
     "output_type": "stream",
     "text": [
      " 93%|█████████▎| 40001/42810 [2:09:58<08:58,  5.22it/s]"
     ]
    },
    {
     "name": "stdout",
     "output_type": "stream",
     "text": [
      "{'loss': 0.3917, 'grad_norm': 0.7686766982078552, 'learning_rate': 1.3127773884606401e-06, 'epoch': 2.8}\n"
     ]
    },
    {
     "name": "stderr",
     "output_type": "stream",
     "text": [
      " 95%|█████████▍| 40501/42810 [2:11:33<07:20,  5.24it/s]"
     ]
    },
    {
     "name": "stdout",
     "output_type": "stream",
     "text": [
      "{'loss': 0.3808, 'grad_norm': 1.087939977645874, 'learning_rate': 1.0791871058163982e-06, 'epoch': 2.84}\n"
     ]
    },
    {
     "name": "stderr",
     "output_type": "stream",
     "text": [
      " 96%|█████████▌| 41001/42810 [2:13:08<05:47,  5.20it/s]"
     ]
    },
    {
     "name": "stdout",
     "output_type": "stream",
     "text": [
      "{'loss': 0.4, 'grad_norm': 3.260347843170166, 'learning_rate': 8.455968231721561e-07, 'epoch': 2.87}\n"
     ]
    },
    {
     "name": "stderr",
     "output_type": "stream",
     "text": [
      " 97%|█████████▋| 41501/42810 [2:14:43<04:10,  5.23it/s]"
     ]
    },
    {
     "name": "stdout",
     "output_type": "stream",
     "text": [
      "{'loss': 0.3936, 'grad_norm': 1.3664392232894897, 'learning_rate': 6.120065405279141e-07, 'epoch': 2.91}\n"
     ]
    },
    {
     "name": "stderr",
     "output_type": "stream",
     "text": [
      " 98%|█████████▊| 42001/42810 [2:16:18<02:34,  5.22it/s]"
     ]
    },
    {
     "name": "stdout",
     "output_type": "stream",
     "text": [
      "{'loss': 0.3903, 'grad_norm': 1.3416457176208496, 'learning_rate': 3.7841625788367204e-07, 'epoch': 2.94}\n"
     ]
    },
    {
     "name": "stderr",
     "output_type": "stream",
     "text": [
      " 99%|█████████▉| 42501/42810 [2:17:53<00:59,  5.20it/s]"
     ]
    },
    {
     "name": "stdout",
     "output_type": "stream",
     "text": [
      "{'loss': 0.3912, 'grad_norm': 1.0157670974731445, 'learning_rate': 1.4482597523943005e-07, 'epoch': 2.98}\n"
     ]
    },
    {
     "name": "stderr",
     "output_type": "stream",
     "text": [
      "                                                       \n",
      "100%|██████████| 42810/42810 [2:20:28<00:00,  5.93it/s]"
     ]
    },
    {
     "name": "stdout",
     "output_type": "stream",
     "text": [
      "{'eval_loss': 0.4002549648284912, 'eval_runtime': 93.693, 'eval_samples_per_second': 270.756, 'eval_steps_per_second': 16.928, 'epoch': 3.0}\n"
     ]
    },
    {
     "name": "stderr",
     "output_type": "stream",
     "text": [
      "100%|██████████| 42810/42810 [2:20:29<00:00,  5.08it/s]"
     ]
    },
    {
     "name": "stdout",
     "output_type": "stream",
     "text": [
      "{'train_runtime': 8429.3946, 'train_samples_per_second': 81.256, 'train_steps_per_second': 5.079, 'train_loss': 0.4010063101882774, 'epoch': 3.0}\n"
     ]
    },
    {
     "name": "stderr",
     "output_type": "stream",
     "text": [
      "\n"
     ]
    },
    {
     "data": {
      "text/plain": [
       "TrainOutput(global_step=42810, training_loss=0.4010063101882774, metrics={'train_runtime': 8429.3946, 'train_samples_per_second': 81.256, 'train_steps_per_second': 5.079, 'total_flos': 2.2683327059183616e+16, 'train_loss': 0.4010063101882774, 'epoch': 3.0})"
      ]
     },
     "execution_count": 6,
     "metadata": {},
     "output_type": "execute_result"
    }
   ],
   "source": [
    "trainer.train()\n"
   ]
  },
  {
   "cell_type": "code",
   "execution_count": null,
   "metadata": {},
   "outputs": [
    {
     "ename": "",
     "evalue": "",
     "output_type": "error",
     "traceback": [
      "\u001b[1;31mThe Kernel crashed while executing code in the current cell or a previous cell. \n",
      "\u001b[1;31mPlease review the code in the cell(s) to identify a possible cause of the failure. \n",
      "\u001b[1;31mClick <a href='https://aka.ms/vscodeJupyterKernelCrash'>here</a> for more info. \n",
      "\u001b[1;31mView Jupyter <a href='command:jupyter.viewOutput'>log</a> for further details."
     ]
    }
   ],
   "source": [
    "#with checkpoints\n",
    "\n",
    "training_args = TrainingArguments(\n",
    "    output_dir='./results',\n",
    "    evaluation_strategy='epoch',\n",
    "    learning_rate=2e-5,\n",
    "    per_device_train_batch_size=16,\n",
    "    per_device_eval_batch_size=16,\n",
    "    num_train_epochs=3,\n",
    "    weight_decay=0.01,\n",
    "    save_strategy=\"epoch\", \n",
    "    save_total_limit=2\n",
    ")\n"
   ]
  },
  {
   "cell_type": "markdown",
   "metadata": {},
   "source": [
    "evaluate model"
   ]
  },
  {
   "cell_type": "code",
   "execution_count": 7,
   "metadata": {},
   "outputs": [
    {
     "name": "stderr",
     "output_type": "stream",
     "text": [
      "100%|██████████| 1586/1586 [04:16<00:00,  6.19it/s]"
     ]
    },
    {
     "name": "stdout",
     "output_type": "stream",
     "text": [
      "              precision    recall  f1-score   support\n",
      "\n",
      " No Diabetes       0.87      0.97      0.92     21375\n",
      "Pre-Diabetic       0.00      0.00      0.00       472\n",
      "    Diabetic       0.54      0.22      0.31      3521\n",
      "\n",
      "    accuracy                           0.85     25368\n",
      "   macro avg       0.47      0.40      0.41     25368\n",
      "weighted avg       0.81      0.85      0.82     25368\n",
      "\n",
      "[[20751     0   624]\n",
      " [  428     0    44]\n",
      " [ 2742     0   779]]\n"
     ]
    },
    {
     "name": "stderr",
     "output_type": "stream",
     "text": [
      "\n",
      "c:\\Users\\rockr\\anaconda3\\envs\\yologpu1\\Lib\\site-packages\\sklearn\\metrics\\_classification.py:1531: UndefinedMetricWarning: Precision is ill-defined and being set to 0.0 in labels with no predicted samples. Use `zero_division` parameter to control this behavior.\n",
      "  _warn_prf(average, modifier, f\"{metric.capitalize()} is\", len(result))\n",
      "c:\\Users\\rockr\\anaconda3\\envs\\yologpu1\\Lib\\site-packages\\sklearn\\metrics\\_classification.py:1531: UndefinedMetricWarning: Precision is ill-defined and being set to 0.0 in labels with no predicted samples. Use `zero_division` parameter to control this behavior.\n",
      "  _warn_prf(average, modifier, f\"{metric.capitalize()} is\", len(result))\n",
      "c:\\Users\\rockr\\anaconda3\\envs\\yologpu1\\Lib\\site-packages\\sklearn\\metrics\\_classification.py:1531: UndefinedMetricWarning: Precision is ill-defined and being set to 0.0 in labels with no predicted samples. Use `zero_division` parameter to control this behavior.\n",
      "  _warn_prf(average, modifier, f\"{metric.capitalize()} is\", len(result))\n"
     ]
    }
   ],
   "source": [
    "from sklearn.metrics import classification_report, confusion_matrix\n",
    "\n",
    "predictions = trainer.predict(test_dataset)\n",
    "preds = predictions.predictions.argmax(-1)\n",
    "labels = predictions.label_ids\n",
    "\n",
    "report = classification_report(labels, preds, target_names=['No Diabetes', 'Pre-Diabetic', 'Diabetic'])\n",
    "matrix = confusion_matrix(labels, preds)\n",
    "\n",
    "print(report)\n",
    "print(matrix)\n"
   ]
  },
  {
   "cell_type": "markdown",
   "metadata": {},
   "source": [
    "train dataset report"
   ]
  },
  {
   "cell_type": "code",
   "execution_count": 18,
   "metadata": {},
   "outputs": [
    {
     "name": "stderr",
     "output_type": "stream",
     "text": [
      "100%|██████████| 14270/14270 [14:11<00:00, 16.76it/s]\n",
      "c:\\Users\\rockr\\anaconda3\\envs\\yologpu1\\Lib\\site-packages\\sklearn\\metrics\\_classification.py:1531: UndefinedMetricWarning: Precision is ill-defined and being set to 0.0 in labels with no predicted samples. Use `zero_division` parameter to control this behavior.\n",
      "  _warn_prf(average, modifier, f\"{metric.capitalize()} is\", len(result))\n",
      "c:\\Users\\rockr\\anaconda3\\envs\\yologpu1\\Lib\\site-packages\\sklearn\\metrics\\_classification.py:1531: UndefinedMetricWarning: Precision is ill-defined and being set to 0.0 in labels with no predicted samples. Use `zero_division` parameter to control this behavior.\n",
      "  _warn_prf(average, modifier, f\"{metric.capitalize()} is\", len(result))\n"
     ]
    },
    {
     "name": "stdout",
     "output_type": "stream",
     "text": [
      "              precision    recall  f1-score   support\n",
      "\n",
      " No Diabetes       0.87      0.97      0.92    192328\n",
      "Pre-Diabetic       0.00      0.00      0.00      4159\n",
      "    Diabetic       0.55      0.23      0.32     31825\n",
      "\n",
      "    accuracy                           0.85    228312\n",
      "   macro avg       0.47      0.40      0.41    228312\n",
      "weighted avg       0.81      0.85      0.82    228312\n",
      "\n",
      "[[186932      0   5396]\n",
      " [  3663      0    496]\n",
      " [ 24644      0   7181]]\n"
     ]
    },
    {
     "name": "stderr",
     "output_type": "stream",
     "text": [
      "c:\\Users\\rockr\\anaconda3\\envs\\yologpu1\\Lib\\site-packages\\sklearn\\metrics\\_classification.py:1531: UndefinedMetricWarning: Precision is ill-defined and being set to 0.0 in labels with no predicted samples. Use `zero_division` parameter to control this behavior.\n",
      "  _warn_prf(average, modifier, f\"{metric.capitalize()} is\", len(result))\n"
     ]
    }
   ],
   "source": [
    "train_predictions = trainer.predict(train_dataset)\n",
    "train_preds = train_predictions.predictions.argmax(-1)\n",
    "train_labels = train_predictions.label_ids\n",
    "\n",
    "train_report = classification_report(train_labels, train_preds, target_names=['No Diabetes', 'Pre-Diabetic', 'Diabetic'])\n",
    "train_matrix = confusion_matrix(train_labels, train_preds)\n",
    "\n",
    "print(train_report)\n",
    "print(train_matrix)\n"
   ]
  },
  {
   "cell_type": "code",
   "execution_count": 21,
   "metadata": {},
   "outputs": [
    {
     "name": "stdout",
     "output_type": "stream",
     "text": [
      "Classification Report:\n",
      "               precision    recall  f1-score   support\n",
      "\n",
      " No Diabetes       0.87      0.97      0.92     21375\n",
      "Pre-Diabetic       0.00      0.00      0.00       472\n",
      "    Diabetic       0.54      0.22      0.31      3521\n",
      "\n",
      "    accuracy                           0.85     25368\n",
      "   macro avg       0.47      0.40      0.41     25368\n",
      "weighted avg       0.81      0.85      0.82     25368\n",
      "\n",
      "Confusion Matrix (Counts):\n",
      " [[20751     0   624]\n",
      " [  428     0    44]\n",
      " [ 2742     0   779]]\n",
      "Confusion Matrix (Percentages):\n",
      " [[97.08070175  0.          2.91929825]\n",
      " [90.6779661   0.          9.3220339 ]\n",
      " [77.87560352  0.         22.12439648]]\n",
      "Micro-Average Precision: 0.85\n",
      "Micro-Average Recall: 0.85\n",
      "Micro-Average F1-Score: 0.85\n",
      "\n",
      "Confusion Matrix as Percentages:\n",
      "\n",
      "Actual: No Diabetes\n",
      "Predicted as No Diabetes: 97.08%\n",
      "Predicted as Pre-Diabetic: 0.00%\n",
      "Predicted as Diabetic: 2.92%\n",
      "\n",
      "Actual: Pre-Diabetic\n",
      "Predicted as No Diabetes: 90.68%\n",
      "Predicted as Pre-Diabetic: 0.00%\n",
      "Predicted as Diabetic: 9.32%\n",
      "\n",
      "Actual: Diabetic\n",
      "Predicted as No Diabetes: 77.88%\n",
      "Predicted as Pre-Diabetic: 0.00%\n",
      "Predicted as Diabetic: 22.12%\n"
     ]
    }
   ],
   "source": [
    "from sklearn.metrics import precision_recall_fscore_support\n",
    "import numpy as np\n",
    "\n",
    "report = classification_report(labels, preds, target_names=['No Diabetes', 'Pre-Diabetic', 'Diabetic'], zero_division=0)\n",
    "matrix = confusion_matrix(labels, preds)\n",
    "\n",
    "micro_precision, micro_recall, micro_f1, _ = precision_recall_fscore_support(labels, preds, average='micro')\n",
    "\n",
    "matrix_percentage = matrix.astype('float') / matrix.sum(axis=1)[:, np.newaxis] * 100\n",
    "\n",
    "print(\"Classification Report:\\n\", report)\n",
    "print(\"Confusion Matrix (Counts):\\n\", matrix)\n",
    "print(\"Confusion Matrix (Percentages):\\n\", matrix_percentage)\n",
    "print(f\"Micro-Average Precision: {micro_precision:.2f}\")\n",
    "print(f\"Micro-Average Recall: {micro_recall:.2f}\")\n",
    "print(f\"Micro-Average F1-Score: {micro_f1:.2f}\")\n",
    "\n",
    "#  matrix as percentages\n",
    "categories = ['No Diabetes', 'Pre-Diabetic', 'Diabetic']\n",
    "print(\"\\nConfusion Matrix as Percentages:\")\n",
    "for i, category in enumerate(categories):\n",
    "    print(f\"\\nActual: {category}\")\n",
    "    for j, predicted_category in enumerate(categories):\n",
    "        print(f\"Predicted as {predicted_category}: {matrix_percentage[i][j]:.2f}%\")\n"
   ]
  },
  {
   "cell_type": "markdown",
   "metadata": {},
   "source": [
    "save trained model"
   ]
  },
  {
   "cell_type": "code",
   "execution_count": 8,
   "metadata": {},
   "outputs": [
    {
     "data": {
      "text/plain": [
       "('./saved_model\\\\tokenizer_config.json',\n",
       " './saved_model\\\\special_tokens_map.json',\n",
       " './saved_model\\\\vocab.txt',\n",
       " './saved_model\\\\added_tokens.json',\n",
       " './saved_model\\\\tokenizer.json')"
      ]
     },
     "execution_count": 8,
     "metadata": {},
     "output_type": "execute_result"
    }
   ],
   "source": [
    "trainer.save_model('./saved_model')\n",
    "tokenizer.save_pretrained('./saved_model')\n"
   ]
  },
  {
   "cell_type": "code",
   "execution_count": null,
   "metadata": {},
   "outputs": [],
   "source": []
  },
  {
   "cell_type": "code",
   "execution_count": 15,
   "metadata": {},
   "outputs": [
    {
     "name": "stdout",
     "output_type": "stream",
     "text": [
      "              precision    recall  f1-score   support\n",
      "\n",
      " No Diabetes       0.87      0.97      0.92     21375\n",
      "Pre-Diabetic       0.00      0.00      0.00       472\n",
      "    Diabetic       0.54      0.22      0.31      3521\n",
      "\n",
      "    accuracy                           0.85     25368\n",
      "   macro avg       0.47      0.40      0.41     25368\n",
      "weighted avg       0.81      0.85      0.82     25368\n",
      "\n",
      "[[20751     0   624]\n",
      " [  428     0    44]\n",
      " [ 2742     0   779]]\n"
     ]
    }
   ],
   "source": [
    "report = classification_report(labels, preds, target_names=['No Diabetes', 'Pre-Diabetic', 'Diabetic'], zero_division=0)\n",
    "\n",
    "matrix = confusion_matrix(labels, preds)\n",
    "\n",
    "print(report)\n",
    "print(matrix)"
   ]
  },
  {
   "cell_type": "code",
   "execution_count": null,
   "metadata": {},
   "outputs": [
    {
     "data": {
      "image/png": "[encoded data removed]",
      "text/plain": [
       "<Figure size 1000x600 with 1 Axes>"
      ]
     },
     "metadata": {},
     "output_type": "display_data"
    },
    {
     "data": {
      "image/png": "[encoded data removed]",
      "text/plain": [
       "<Figure size 800x600 with 2 Axes>"
      ]
     },
     "metadata": {},
     "output_type": "display_data"
    },
    {
     "data": {
      "image/png": "[encoded data removed]",
      "text/plain": [
       "<Figure size 800x600 with 2 Axes>"
      ]
     },
     "metadata": {},
     "output_type": "display_data"
    },
    {
     "data": {
      "image/png": "[encoded data removed]",
      "text/plain": [
       "<Figure size 1000x500 with 1 Axes>"
      ]
     },
     "metadata": {},
     "output_type": "display_data"
    }
   ],
   "source": [
    "import matplotlib.pyplot as plt\n",
    "import numpy as np\n",
    "import pandas as pd\n",
    "\n",
    "# Hardcoded evaluation results\n",
    "classification_report_data = \"\"\"\n",
    "               precision    recall  f1-score   support\n",
    " No Diabetes       0.87      0.97      0.92     21375\n",
    "Pre-Diabetic       0.00      0.00      0.00       472\n",
    "    Diabetic       0.54      0.22      0.31      3521\n",
    "    accuracy                           0.85     25368\n",
    "   macro avg       0.47      0.40      0.41     25368\n",
    "weighted avg       0.81      0.85      0.82     25368\n",
    "\"\"\"\n",
    "\n",
    "confusion_matrix_counts = np.array([\n",
    "    [20751,     0,   624],\n",
    "    [  428,     0,    44],\n",
    "    [ 2742,     0,   779]\n",
    "])\n",
    "\n",
    "confusion_matrix_percentages = np.array([\n",
    "    [97.08070175,  0.        ,  2.91929825],\n",
    "    [90.6779661 ,  0.        ,  9.3220339 ],\n",
    "    [77.87560352,  0.        , 22.12439648]\n",
    "])\n",
    "\n",
    "micro_avg_scores = {\n",
    "    \"Micro-Average Precision\": 0.85,\n",
    "    \"Micro-Average Recall\": 0.85,\n",
    "    \"Micro-Average F1-Score\": 0.85\n",
    "}\n",
    "\n",
    "c64_colors = [\"#40318d\", \"#73aed6\", \"#ff7f27\", \"#fe2712\", \"#a7194b\"]\n",
    "\n",
    "report_data = [0.87, 0.97, 0.92, 0.00, 0.00, 0.00, 0.54, 0.22, 0.31]\n",
    "categories = ['No Diabetes Precision', 'No Diabetes Recall', 'No Diabetes F1', \n",
    "              'Pre-Diabetic Precision', 'Pre-Diabetic Recall', 'Pre-Diabetic F1', \n",
    "              'Diabetic Precision', 'Diabetic Recall', 'Diabetic F1']\n",
    "\n",
    "plt.figure(figsize=(10, 6))\n",
    "plt.barh(categories, report_data, color=c64_colors[:len(categories)])\n",
    "plt.xlabel('Scores')\n",
    "plt.title('Classification Report Scores')\n",
    "plt.xlim([0, 1])\n",
    "plt.grid(True, linestyle='--', linewidth=0.5)\n",
    "plt.show()\n",
    "\n",
    "plt.figure(figsize=(8, 6))\n",
    "plt.imshow(confusion_matrix_counts, interpolation='nearest', cmap=plt.get_cmap('Purples'))\n",
    "plt.title('Confusion Matrix (Counts)')\n",
    "plt.colorbar()\n",
    "tick_marks = np.arange(3)\n",
    "plt.xticks(tick_marks, ['No Diabetes', 'Pre-Diabetic', 'Diabetic'])\n",
    "plt.yticks(tick_marks, ['No Diabetes', 'Pre-Diabetic', 'Diabetic'])\n",
    "\n",
    "for i in range(3):\n",
    "    for j in range(3):\n",
    "        plt.text(j, i, format(confusion_matrix_counts[i, j], 'd'),\n",
    "                 horizontalalignment=\"center\",\n",
    "                 color=\"white\" if confusion_matrix_counts[i, j] > confusion_matrix_counts.max() / 2. else \"black\")\n",
    "\n",
    "plt.ylabel('Actual')\n",
    "plt.xlabel('Predicted')\n",
    "plt.tight_layout()\n",
    "plt.show()\n",
    "\n",
    "# Plot the confusion matrix (percentages)\n",
    "plt.figure(figsize=(8, 6))\n",
    "plt.imshow(confusion_matrix_percentages, interpolation='nearest', cmap=plt.get_cmap('Blues'))\n",
    "plt.title('Confusion Matrix (Percentages)')\n",
    "plt.colorbar()\n",
    "plt.xticks(tick_marks, ['No Diabetes', 'Pre-Diabetic', 'Diabetic'])\n",
    "plt.yticks(tick_marks, ['No Diabetes', 'Pre-Diabetic', 'Diabetic'])\n",
    "\n",
    "for i in range(3):\n",
    "    for j in range(3):\n",
    "        plt.text(j, i, f\"{confusion_matrix_percentages[i, j]:.2f}%\",\n",
    "                 horizontalalignment=\"center\",\n",
    "                 color=\"white\" if confusion_matrix_percentages[i, j] > confusion_matrix_percentages.max() / 2. else \"black\")\n",
    "\n",
    "plt.ylabel('Actual')\n",
    "plt.xlabel('Predicted')\n",
    "plt.tight_layout()\n",
    "plt.show()\n",
    "\n",
    "# Plot Micro-Average Scores\n",
    "plt.figure(figsize=(10, 5))\n",
    "plt.bar(list(micro_avg_scores.keys()), list(micro_avg_scores.values()), color=c64_colors)\n",
    "plt.ylabel('Scores')\n",
    "plt.title('Micro-Average Scores')\n",
    "plt.ylim([0, 1])\n",
    "plt.grid(True, linestyle='--', linewidth=0.5)\n",
    "plt.show()\n"
   ]
  },
  {
   "cell_type": "code",
   "execution_count": null,
   "metadata": {},
   "outputs": [],
   "source": []
  }
 ],
 "metadata": {
  "kernelspec": {
   "display_name": "yologpu1",
   "language": "python",
   "name": "python3"
  },
  "language_info": {
   "codemirror_mode": {
    "name": "ipython",
    "version": 3
   },
   "file_extension": ".py",
   "mimetype": "text/x-python",
   "name": "python",
   "nbconvert_exporter": "python",
   "pygments_lexer": "ipython3",
   "version": "3.12.3"
  }
 },
 "nbformat": 4,
 "nbformat_minor": 2
}
